{
 "cells": [
  {
   "cell_type": "code",
   "execution_count": 2,
   "id": "distinguished-closing",
   "metadata": {},
   "outputs": [],
   "source": [
    "import numpy as np\n",
    "import pandas as pd\n",
    "from sklearn import neighbors, metrics\n",
    "from sklearn.model_selection import train_test_split\n",
    "from sklearn.preprocessing import LabelEncoder"
   ]
  },
  {
   "cell_type": "code",
   "execution_count": 6,
   "id": "seeing-interpretation",
   "metadata": {
    "scrolled": false
   },
   "outputs": [
    {
     "name": "stdout",
     "output_type": "stream",
     "text": [
      "  buying  maint doors persons lug_boot safety  class\n",
      "0  vhigh  vhigh     2       2    small    low  unacc\n",
      "1  vhigh  vhigh     2       2    small    med  unacc\n",
      "2  vhigh  vhigh     2       2    small   high  unacc\n",
      "3  vhigh  vhigh     2       2      med    low  unacc\n",
      "4  vhigh  vhigh     2       2      med    med  unacc\n",
      "5  vhigh  vhigh     2       2      med   high  unacc\n",
      "6  vhigh  vhigh     2       2      big    low  unacc\n",
      "7  vhigh  vhigh     2       2      big    med  unacc\n"
     ]
    }
   ],
   "source": [
    "data = pd.read_csv('data/car.data')\n",
    "print(data.head(8))"
   ]
  },
  {
   "cell_type": "code",
   "execution_count": 13,
   "id": "growing-exhibition",
   "metadata": {},
   "outputs": [
    {
     "name": "stdout",
     "output_type": "stream",
     "text": [
      "[[3 3 1]\n",
      " [3 3 2]\n",
      " [3 3 0]\n",
      " ...\n",
      " [1 1 1]\n",
      " [1 1 2]\n",
      " [1 1 0]]\n",
      "[[0]\n",
      " [0]\n",
      " [0]\n",
      " ...\n",
      " [0]\n",
      " [2]\n",
      " [3]]\n"
     ]
    },
    {
     "name": "stderr",
     "output_type": "stream",
     "text": [
      "/home/leroth/Projects/scikit/scikit-course/lib/python3.6/site-packages/ipykernel_launcher.py:25: SettingWithCopyWarning: \n",
      "A value is trying to be set on a copy of a slice from a DataFrame.\n",
      "Try using .loc[row_indexer,col_indexer] = value instead\n",
      "\n",
      "See the caveats in the documentation: https://pandas.pydata.org/pandas-docs/stable/user_guide/indexing.html#returning-a-view-versus-a-copy\n"
     ]
    }
   ],
   "source": [
    "x = data[[\n",
    "    'buying',\n",
    "    'maint',\n",
    "    'safety'\n",
    "]].values\n",
    "\n",
    "y = data[['class']]\n",
    "\n",
    "#print(x,y)\n",
    "\n",
    "#convert the data into numbers\n",
    "Le = LabelEncoder()\n",
    "for i in range(len(x[0])):\n",
    "    x[:,i] = Le.fit_transform(x[:,i])\n",
    "    \n",
    "print(x)\n",
    "\n",
    "label_mapping = {\n",
    "    'unacc':0,\n",
    "    'acc':1,\n",
    "    'good':2,\n",
    "    'vgood':3\n",
    "}\n",
    "\n",
    "y['class'] = y['class'].map(label_mapping)\n",
    "y = np.array(y)\n",
    "print(y)"
   ]
  },
  {
   "cell_type": "code",
   "execution_count": 15,
   "id": "speaking-caribbean",
   "metadata": {},
   "outputs": [
    {
     "name": "stdout",
     "output_type": "stream",
     "text": [
      "predictions:  [1 0 0 0 0 0 0 0 0 1 3 0 0 0 0 0 0 0 0 0 0 1 0 0 0 1 0 2 0 0 1 0 2 3 0 0 0\n",
      " 0 1 0 0 1 0 0 0 0 1 0 1 2 0 0 0 0 0 0 0 0 1 2 1 0 0 0 0 1 0 0 0 0 0 0 1 1\n",
      " 0 0 0 0 0 0 0 0 0 1 0 0 0 0 0 0 0 0 0 0 0 0 0 0 0 0 0 0 1 3 0 0 0 1 0 0 0\n",
      " 0 0 1 0 0 0 0 0 0 0 0 1 0 0 2 0 0 1 0 1 0 0 1 0 1 0 1 0 0 2 0 1 1 0 0 0 0\n",
      " 0 1 0 0 0 0 0 0 1 0 1 0 0 0 1 2 0 0 0 0 0 0 0 1 0 0 0 1 0 0 0 0 0 0 0 0 1\n",
      " 0 0 2 1 1 0 0 0 0 0 2 0 0 2 0 0 0 0 0 0 1 0 3 3 0 0 1 0 0 0 1 0 0 0 0 0 0\n",
      " 2 1 0 0 0 0 0 0 0 0 0 0 0 0 0 1 0 1 1 0 0 0 0 0 2 0 1 0 0 0 0 0 0 0 2 0 1\n",
      " 0 3 0 0 0 1 0 0 0 0 0 0 0 1 0 0 0 0 0 0 0 0 1 0 0 3 0 1 1 0 0 0 0 0 0 1 0\n",
      " 0 1 1 1 0 0 1 1 0 0 0 0 1 0 0 0 0 0 0 0 0 0 0 0 0 0 1 0 3 1 0 2 1 1 3 0 1\n",
      " 0 0 0 0 0 0 0 1 0 0 3 0 1]\n",
      "accuracy:  0.7254335260115607\n"
     ]
    }
   ],
   "source": [
    "knn = neighbors.KNeighborsClassifier(n_neighbors=25, weights='uniform')\n",
    "\n",
    "x_train, x_test, y_train, y_test = train_test_split(x,y,test_size=0.2)\n",
    "\n",
    "knn.fit(x_train, np.ravel(y_train)) # Changed shape from column vector to array with ravel\n",
    "\n",
    "prediction = knn.predict(x_test)\n",
    "\n",
    "accuracy = metrics.accuracy_score(y_test, prediction)\n",
    "\n",
    "print('predictions: ',prediction)\n",
    "print('accuracy: ',accuracy)"
   ]
  },
  {
   "cell_type": "code",
   "execution_count": 18,
   "id": "brave-alert",
   "metadata": {},
   "outputs": [
    {
     "name": "stdout",
     "output_type": "stream",
     "text": [
      "actual value:  [0]\n",
      "predicted value:  0\n"
     ]
    }
   ],
   "source": [
    "a = 17\n",
    "print(\"actual value: \", y[a])\n",
    "print('predicted value: ',knn.predict(x)[a])"
   ]
  },
  {
   "cell_type": "code",
   "execution_count": null,
   "id": "ruled-arrow",
   "metadata": {},
   "outputs": [],
   "source": []
  }
 ],
 "metadata": {
  "kernelspec": {
   "display_name": "scikit-course",
   "language": "python",
   "name": "scikit-course"
  },
  "language_info": {
   "codemirror_mode": {
    "name": "ipython",
    "version": 3
   },
   "file_extension": ".py",
   "mimetype": "text/x-python",
   "name": "python",
   "nbconvert_exporter": "python",
   "pygments_lexer": "ipython3",
   "version": "3.6.9"
  }
 },
 "nbformat": 4,
 "nbformat_minor": 5
}
