{
 "cells": [
  {
   "cell_type": "code",
   "execution_count": 2,
   "id": "affecting-candy",
   "metadata": {},
   "outputs": [],
   "source": [
    "from sklearn import datasets\n",
    "from sklearn import linear_model\n",
    "from sklearn.model_selection import train_test_split\n",
    "from matplotlib import pyplot as plt"
   ]
  },
  {
   "cell_type": "code",
   "execution_count": 5,
   "id": "disturbed-memory",
   "metadata": {},
   "outputs": [],
   "source": [
    "boston = datasets.load_boston()\n",
    "\n",
    "#features/ labels\n",
    "x = boston.data\n",
    "y = boston.target\n",
    "\n",
    "#print(x)\n",
    "#print(x.shape)\n",
    "\n",
    "#print(y)\n",
    "#print(y.shape)"
   ]
  },
  {
   "cell_type": "code",
   "execution_count": 11,
   "id": "hundred-hopkins",
   "metadata": {},
   "outputs": [
    {
     "name": "stdout",
     "output_type": "stream",
     "text": [
      "Predictions:  [12.6688755  18.40635978 26.80676532 30.01207209 19.66581237 28.90888418\n",
      " 17.18643478 25.09521637 22.40168819 36.0423044  11.57792835 25.25610445\n",
      " 23.01018333 16.60700363 19.61517792 16.21173571 31.46829595 28.93538699\n",
      " 25.43150616 21.440789   12.60987525 20.90794823  7.47656625 26.2960394\n",
      " 22.54004531 14.83549075 27.65806992 18.56392128 15.24140281 25.04385373\n",
      " 33.48342185 27.54107386 12.90328489 27.57145348 14.1433529  17.33061273\n",
      " 17.34602158 21.23553138 23.59223982 27.31239013 19.52058822 23.54390755\n",
      " 17.19805878 32.84397418 24.12007766 21.87591117 25.33901702 19.65635822\n",
      " 30.70638596  5.31793445 21.21257935 19.72020219 15.07755931 20.15171402\n",
      " 32.5682226  32.89245652 45.00990031 24.9040696  21.19447322 21.03087609\n",
      " 33.56171908 22.91630129 14.55252599 39.15446918 19.93873952 15.59047937\n",
      " 15.6445098  23.13378889 26.6609567  16.13934746 26.48911423 19.07479692\n",
      " 22.39549931 42.34556424 24.71225186  6.44418871 26.17278253 24.33063778\n",
      " 25.08077932 20.64813696 34.33491416  8.77073215 26.66197407 13.24813681\n",
      " 27.65858398 16.75364575 28.35832512 36.65135175 20.53605297 29.24355267\n",
      " 28.41460262 39.05783436 35.12119389 14.27761531 37.65713003 31.00845134\n",
      " 21.39491088 39.74134538 17.49599811 20.13746692 23.89857021 22.05084933]\n",
      "R^2 value:  0.7305180265891229\n",
      "coeff:  [-1.15362976e-01  4.34626596e-02  3.45200547e-02  1.77667622e+00\n",
      " -1.65373749e+01  5.17796961e+00 -2.70540715e-02 -1.46154244e+00\n",
      "  2.45037598e-01 -1.16869638e-02 -8.70903475e-01  8.75719122e-03\n",
      " -3.48140692e-01]\n",
      "intercept:  25.709848214703882\n"
     ]
    }
   ],
   "source": [
    "#algorithm\n",
    "\n",
    "l_reg = linear_model.LinearRegression()\n",
    "\n",
    "#plt.scatter(x.T[0],y) #Transpose for easier slicing\n",
    "#plt.show()\n",
    "\n",
    "x_train, x_test, y_train, y_test = train_test_split(x,y,test_size=0.2)\n",
    "\n",
    "model = l_reg.fit(x_train, y_train)\n",
    "predictions = model.predict(x_test)\n",
    "\n",
    "print(\"Predictions: \", predictions)\n",
    "print(\"R^2 value: \", l_reg.score(x,y))\n",
    "print(\"coeff: \", l_reg.coef_)\n",
    "print(\"intercept: \", l_reg.intercept_)"
   ]
  },
  {
   "cell_type": "code",
   "execution_count": null,
   "id": "weighted-pickup",
   "metadata": {},
   "outputs": [],
   "source": []
  }
 ],
 "metadata": {
  "kernelspec": {
   "display_name": "scikit-course",
   "language": "python",
   "name": "scikit-course"
  },
  "language_info": {
   "codemirror_mode": {
    "name": "ipython",
    "version": 3
   },
   "file_extension": ".py",
   "mimetype": "text/x-python",
   "name": "python",
   "nbconvert_exporter": "python",
   "pygments_lexer": "ipython3",
   "version": "3.6.9"
  }
 },
 "nbformat": 4,
 "nbformat_minor": 5
}
