{
 "cells": [
  {
   "cell_type": "code",
   "execution_count": 24,
   "id": "incoming-hours",
   "metadata": {},
   "outputs": [],
   "source": [
    "from PIL import Image\n",
    "import numpy as np\n",
    "import mnist\n",
    "from sklearn.neural_network import MLPClassifier\n",
    "from sklearn.metrics import confusion_matrix"
   ]
  },
  {
   "cell_type": "code",
   "execution_count": 25,
   "id": "naughty-tenant",
   "metadata": {},
   "outputs": [],
   "source": [
    "# training\n",
    "\n",
    "x_train = mnist.train_images()\n",
    "y_train = mnist.train_labels()"
   ]
  },
  {
   "cell_type": "code",
   "execution_count": 26,
   "id": "fourth-handling",
   "metadata": {},
   "outputs": [],
   "source": [
    "x_test = mnist.test_images()\n",
    "y_test = mnist.test_labels()"
   ]
  },
  {
   "cell_type": "code",
   "execution_count": 27,
   "id": "announced-thinking",
   "metadata": {},
   "outputs": [
    {
     "name": "stdout",
     "output_type": "stream",
     "text": [
      "3\n"
     ]
    }
   ],
   "source": [
    "print(x_train.ndim)"
   ]
  },
  {
   "cell_type": "code",
   "execution_count": 28,
   "id": "unsigned-diameter",
   "metadata": {},
   "outputs": [
    {
     "name": "stdout",
     "output_type": "stream",
     "text": [
      "(60000, 28, 28)\n",
      "(10000, 28, 28)\n"
     ]
    }
   ],
   "source": [
    "print(x_train.shape)\n",
    "print(x_test.shape)"
   ]
  },
  {
   "cell_type": "code",
   "execution_count": 29,
   "id": "anonymous-nomination",
   "metadata": {},
   "outputs": [
    {
     "name": "stdout",
     "output_type": "stream",
     "text": [
      "(60000, 784)\n",
      "(10000, 784)\n"
     ]
    }
   ],
   "source": [
    "x_train = x_train.reshape((-1,28*28))\n",
    "x_test = x_test.reshape((-1,28*28))\n",
    "print(x_train.shape)\n",
    "print(x_test.shape)"
   ]
  },
  {
   "cell_type": "code",
   "execution_count": 30,
   "id": "through-import",
   "metadata": {},
   "outputs": [],
   "source": [
    "#Normalize data\n",
    "x_train = x_train/256\n",
    "x_test = x_test/256"
   ]
  },
  {
   "cell_type": "code",
   "execution_count": 31,
   "id": "controlled-score",
   "metadata": {},
   "outputs": [],
   "source": [
    "clf = MLPClassifier(solver='adam', activation='relu', hidden_layer_sizes=(64,64))"
   ]
  },
  {
   "cell_type": "code",
   "execution_count": 32,
   "id": "southeast-marriage",
   "metadata": {},
   "outputs": [
    {
     "data": {
      "text/plain": [
       "MLPClassifier(hidden_layer_sizes=(64, 64))"
      ]
     },
     "execution_count": 32,
     "metadata": {},
     "output_type": "execute_result"
    }
   ],
   "source": [
    "clf.fit(x_train,y_train)"
   ]
  },
  {
   "cell_type": "code",
   "execution_count": 42,
   "id": "measured-nicaragua",
   "metadata": {
    "scrolled": true
   },
   "outputs": [
    {
     "name": "stdout",
     "output_type": "stream",
     "text": [
      "[[ 970    0    0    1    2    1    3    2    1    0]\n",
      " [   0 1126    3    0    0    0    1    1    4    0]\n",
      " [   3    1 1011    5    2    0    0    4    6    0]\n",
      " [   0    0    6  988    0    6    0    3    3    4]\n",
      " [   2    1    1    3  959    1    5    1    1    8]\n",
      " [   2    0    0   14    1  864    2    3    5    1]\n",
      " [   3    2    3    1    7    6  936    0    0    0]\n",
      " [   0    4   10    2    2    0    1 1001    3    5]\n",
      " [   4    1    4    8    5    8    3    3  934    4]\n",
      " [   3    2    0    5    9    2    0    5    4  979]]\n"
     ]
    }
   ],
   "source": [
    "predictions = clf.predict(x_test)\n",
    "#print(predictions.shape)\n",
    "#print(y_test.shape)\n",
    "acc = confusion_matrix(y_test, predictions)\n",
    "print(acc)"
   ]
  },
  {
   "cell_type": "code",
   "execution_count": 43,
   "id": "requested-density",
   "metadata": {},
   "outputs": [],
   "source": [
    "def accuracy(cm):\n",
    "    diagonal = cm.trace()\n",
    "    elements = cm.sum()\n",
    "    return diagonal/elements"
   ]
  },
  {
   "cell_type": "code",
   "execution_count": 44,
   "id": "capable-counter",
   "metadata": {},
   "outputs": [
    {
     "name": "stdout",
     "output_type": "stream",
     "text": [
      "0.9768\n"
     ]
    }
   ],
   "source": [
    "print(accuracy(acc))"
   ]
  },
  {
   "cell_type": "code",
   "execution_count": null,
   "id": "recognized-leave",
   "metadata": {},
   "outputs": [],
   "source": []
  }
 ],
 "metadata": {
  "kernelspec": {
   "display_name": "scikit-course",
   "language": "python",
   "name": "scikit-course"
  },
  "language_info": {
   "codemirror_mode": {
    "name": "ipython",
    "version": 3
   },
   "file_extension": ".py",
   "mimetype": "text/x-python",
   "name": "python",
   "nbconvert_exporter": "python",
   "pygments_lexer": "ipython3",
   "version": "3.6.9"
  }
 },
 "nbformat": 4,
 "nbformat_minor": 5
}
